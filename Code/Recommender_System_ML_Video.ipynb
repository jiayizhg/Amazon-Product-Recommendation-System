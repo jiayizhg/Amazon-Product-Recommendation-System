{
 "cells": [
  {
   "cell_type": "code",
   "execution_count": 14,
   "id": "0fc4001b",
   "metadata": {},
   "outputs": [],
   "source": [
    "import pandas as pd\n",
    "from sklearn.model_selection import train_test_split\n",
    "import sklearn.metrics as metric\n",
    "from math import sqrt\n",
    "from prettytable import PrettyTable as PT"
   ]
  },
  {
   "cell_type": "code",
   "execution_count": 2,
   "id": "ee14c9ef",
   "metadata": {},
   "outputs": [],
   "source": [
    "from surprise import KNNWithMeans\n",
    "from surprise.model_selection import GridSearchCV\n",
    "from surprise import Dataset\n",
    "from surprise import accuracy\n",
    "from surprise import Reader\n"
   ]
  },
  {
   "cell_type": "code",
   "execution_count": 3,
   "id": "738fb97e",
   "metadata": {},
   "outputs": [
    {
     "name": "stdout",
     "output_type": "stream",
     "text": [
      "Collecting PrettyTable\n",
      "  Downloading prettytable-3.7.0-py3-none-any.whl (27 kB)\n",
      "Requirement already satisfied: wcwidth in c:\\users\\woshi\\anaconda3\\lib\\site-packages (from PrettyTable) (0.2.5)\n",
      "Installing collected packages: PrettyTable\n",
      "Successfully installed PrettyTable-3.7.0\n"
     ]
    }
   ],
   "source": [
    "#pip install scikit-surprise\n",
    "#!pip install PrettyTable\n"
   ]
  },
  {
   "cell_type": "code",
   "execution_count": 3,
   "id": "91a35f70",
   "metadata": {},
   "outputs": [],
   "source": [
    "df = pd.read_json('Movies_and_TV.json', lines = True)"
   ]
  },
  {
   "cell_type": "code",
   "execution_count": 4,
   "id": "baf8d899",
   "metadata": {},
   "outputs": [
    {
     "data": {
      "text/html": [
       "<div>\n",
       "<style scoped>\n",
       "    .dataframe tbody tr th:only-of-type {\n",
       "        vertical-align: middle;\n",
       "    }\n",
       "\n",
       "    .dataframe tbody tr th {\n",
       "        vertical-align: top;\n",
       "    }\n",
       "\n",
       "    .dataframe thead th {\n",
       "        text-align: right;\n",
       "    }\n",
       "</style>\n",
       "<table border=\"1\" class=\"dataframe\">\n",
       "  <thead>\n",
       "    <tr style=\"text-align: right;\">\n",
       "      <th></th>\n",
       "      <th>overall</th>\n",
       "      <th>verified</th>\n",
       "      <th>reviewTime</th>\n",
       "      <th>reviewerID</th>\n",
       "      <th>asin</th>\n",
       "      <th>style</th>\n",
       "      <th>reviewerName</th>\n",
       "      <th>reviewText</th>\n",
       "      <th>summary</th>\n",
       "      <th>unixReviewTime</th>\n",
       "      <th>vote</th>\n",
       "      <th>image</th>\n",
       "    </tr>\n",
       "  </thead>\n",
       "  <tbody>\n",
       "    <tr>\n",
       "      <th>0</th>\n",
       "      <td>5</td>\n",
       "      <td>True</td>\n",
       "      <td>11 9, 2012</td>\n",
       "      <td>A2M1CU2IRZG0K9</td>\n",
       "      <td>0005089549</td>\n",
       "      <td>{'Format:': ' VHS Tape'}</td>\n",
       "      <td>Terri</td>\n",
       "      <td>So sorry I didn't purchase this years ago when...</td>\n",
       "      <td>Amazing!</td>\n",
       "      <td>1352419200</td>\n",
       "      <td>NaN</td>\n",
       "      <td>NaN</td>\n",
       "    </tr>\n",
       "    <tr>\n",
       "      <th>1</th>\n",
       "      <td>5</td>\n",
       "      <td>True</td>\n",
       "      <td>12 30, 2011</td>\n",
       "      <td>AFTUJYISOFHY6</td>\n",
       "      <td>0005089549</td>\n",
       "      <td>{'Format:': ' VHS Tape'}</td>\n",
       "      <td>Melissa D. Abercrombie</td>\n",
       "      <td>Believe me when I tell you that you will recei...</td>\n",
       "      <td>Great Gospel VHS of the Cathedrals!</td>\n",
       "      <td>1325203200</td>\n",
       "      <td>NaN</td>\n",
       "      <td>NaN</td>\n",
       "    </tr>\n",
       "    <tr>\n",
       "      <th>2</th>\n",
       "      <td>5</td>\n",
       "      <td>True</td>\n",
       "      <td>04 21, 2005</td>\n",
       "      <td>A3JVF9Y53BEOGC</td>\n",
       "      <td>000503860X</td>\n",
       "      <td>{'Format:': ' DVD'}</td>\n",
       "      <td>Anthony Thompson</td>\n",
       "      <td>I have seen X live many times, both in the ear...</td>\n",
       "      <td>A great document of a great band</td>\n",
       "      <td>1114041600</td>\n",
       "      <td>11.0</td>\n",
       "      <td>NaN</td>\n",
       "    </tr>\n",
       "    <tr>\n",
       "      <th>3</th>\n",
       "      <td>5</td>\n",
       "      <td>True</td>\n",
       "      <td>04 6, 2005</td>\n",
       "      <td>A12VPEOEZS1KTC</td>\n",
       "      <td>000503860X</td>\n",
       "      <td>{'Format:': ' DVD'}</td>\n",
       "      <td>JadeRain</td>\n",
       "      <td>I was so excited for this!  Finally, a live co...</td>\n",
       "      <td>YES!!  X LIVE!!</td>\n",
       "      <td>1112745600</td>\n",
       "      <td>5.0</td>\n",
       "      <td>NaN</td>\n",
       "    </tr>\n",
       "    <tr>\n",
       "      <th>4</th>\n",
       "      <td>5</td>\n",
       "      <td>True</td>\n",
       "      <td>12 3, 2010</td>\n",
       "      <td>ATLZNVLYKP9AZ</td>\n",
       "      <td>000503860X</td>\n",
       "      <td>{'Format:': ' DVD'}</td>\n",
       "      <td>T. Fisher</td>\n",
       "      <td>X is one of the best punk bands ever. I don't ...</td>\n",
       "      <td>X have still got it</td>\n",
       "      <td>1291334400</td>\n",
       "      <td>5.0</td>\n",
       "      <td>NaN</td>\n",
       "    </tr>\n",
       "  </tbody>\n",
       "</table>\n",
       "</div>"
      ],
      "text/plain": [
       "   overall  verified   reviewTime      reviewerID        asin  \\\n",
       "0        5      True   11 9, 2012  A2M1CU2IRZG0K9  0005089549   \n",
       "1        5      True  12 30, 2011   AFTUJYISOFHY6  0005089549   \n",
       "2        5      True  04 21, 2005  A3JVF9Y53BEOGC  000503860X   \n",
       "3        5      True   04 6, 2005  A12VPEOEZS1KTC  000503860X   \n",
       "4        5      True   12 3, 2010   ATLZNVLYKP9AZ  000503860X   \n",
       "\n",
       "                      style            reviewerName  \\\n",
       "0  {'Format:': ' VHS Tape'}                   Terri   \n",
       "1  {'Format:': ' VHS Tape'}  Melissa D. Abercrombie   \n",
       "2       {'Format:': ' DVD'}        Anthony Thompson   \n",
       "3       {'Format:': ' DVD'}                JadeRain   \n",
       "4       {'Format:': ' DVD'}               T. Fisher   \n",
       "\n",
       "                                          reviewText  \\\n",
       "0  So sorry I didn't purchase this years ago when...   \n",
       "1  Believe me when I tell you that you will recei...   \n",
       "2  I have seen X live many times, both in the ear...   \n",
       "3  I was so excited for this!  Finally, a live co...   \n",
       "4  X is one of the best punk bands ever. I don't ...   \n",
       "\n",
       "                               summary  unixReviewTime  vote image  \n",
       "0                             Amazing!      1352419200   NaN   NaN  \n",
       "1  Great Gospel VHS of the Cathedrals!      1325203200   NaN   NaN  \n",
       "2     A great document of a great band      1114041600  11.0   NaN  \n",
       "3                      YES!!  X LIVE!!      1112745600   5.0   NaN  \n",
       "4                  X have still got it      1291334400   5.0   NaN  "
      ]
     },
     "execution_count": 4,
     "metadata": {},
     "output_type": "execute_result"
    }
   ],
   "source": [
    "df.head(5)"
   ]
  },
  {
   "cell_type": "code",
   "execution_count": 14,
   "id": "1c3f7821",
   "metadata": {},
   "outputs": [
    {
     "data": {
      "text/html": [
       "<div>\n",
       "<style scoped>\n",
       "    .dataframe tbody tr th:only-of-type {\n",
       "        vertical-align: middle;\n",
       "    }\n",
       "\n",
       "    .dataframe tbody tr th {\n",
       "        vertical-align: top;\n",
       "    }\n",
       "\n",
       "    .dataframe thead th {\n",
       "        text-align: right;\n",
       "    }\n",
       "</style>\n",
       "<table border=\"1\" class=\"dataframe\">\n",
       "  <thead>\n",
       "    <tr style=\"text-align: right;\">\n",
       "      <th></th>\n",
       "      <th>overall</th>\n",
       "      <th>verified</th>\n",
       "      <th>reviewTime</th>\n",
       "      <th>reviewerID</th>\n",
       "      <th>asin</th>\n",
       "      <th>style</th>\n",
       "      <th>reviewerName</th>\n",
       "      <th>reviewText</th>\n",
       "      <th>summary</th>\n",
       "      <th>unixReviewTime</th>\n",
       "      <th>vote</th>\n",
       "      <th>image</th>\n",
       "    </tr>\n",
       "  </thead>\n",
       "  <tbody>\n",
       "    <tr>\n",
       "      <th>count</th>\n",
       "      <td>1.584082e+06</td>\n",
       "      <td>1584082</td>\n",
       "      <td>1584082</td>\n",
       "      <td>1584082</td>\n",
       "      <td>1584082</td>\n",
       "      <td>1310814</td>\n",
       "      <td>1584001</td>\n",
       "      <td>1582629</td>\n",
       "      <td>1583547</td>\n",
       "      <td>1.584082e+06</td>\n",
       "      <td>124722</td>\n",
       "      <td>6591</td>\n",
       "    </tr>\n",
       "    <tr>\n",
       "      <th>unique</th>\n",
       "      <td>NaN</td>\n",
       "      <td>2</td>\n",
       "      <td>7272</td>\n",
       "      <td>840372</td>\n",
       "      <td>456992</td>\n",
       "      <td>41</td>\n",
       "      <td>598429</td>\n",
       "      <td>1254879</td>\n",
       "      <td>713973</td>\n",
       "      <td>NaN</td>\n",
       "      <td>218</td>\n",
       "      <td>6402</td>\n",
       "    </tr>\n",
       "    <tr>\n",
       "      <th>top</th>\n",
       "      <td>NaN</td>\n",
       "      <td>True</td>\n",
       "      <td>02 20, 2015</td>\n",
       "      <td>A3W4D8XOGLWUN5</td>\n",
       "      <td>B0135P6PZA</td>\n",
       "      <td>{'Format:': ' MP3 Music'}</td>\n",
       "      <td>Amazon Customer</td>\n",
       "      <td>Great song</td>\n",
       "      <td>Five Stars</td>\n",
       "      <td>NaN</td>\n",
       "      <td>2</td>\n",
       "      <td>[https://images-na.ssl-images-amazon.com/image...</td>\n",
       "    </tr>\n",
       "    <tr>\n",
       "      <th>freq</th>\n",
       "      <td>NaN</td>\n",
       "      <td>1217667</td>\n",
       "      <td>5038</td>\n",
       "      <td>1326</td>\n",
       "      <td>3411</td>\n",
       "      <td>993745</td>\n",
       "      <td>82289</td>\n",
       "      <td>7127</td>\n",
       "      <td>399073</td>\n",
       "      <td>NaN</td>\n",
       "      <td>50192</td>\n",
       "      <td>11</td>\n",
       "    </tr>\n",
       "    <tr>\n",
       "      <th>mean</th>\n",
       "      <td>4.660555e+00</td>\n",
       "      <td>NaN</td>\n",
       "      <td>NaN</td>\n",
       "      <td>NaN</td>\n",
       "      <td>NaN</td>\n",
       "      <td>NaN</td>\n",
       "      <td>NaN</td>\n",
       "      <td>NaN</td>\n",
       "      <td>NaN</td>\n",
       "      <td>1.408211e+09</td>\n",
       "      <td>NaN</td>\n",
       "      <td>NaN</td>\n",
       "    </tr>\n",
       "    <tr>\n",
       "      <th>std</th>\n",
       "      <td>8.440314e-01</td>\n",
       "      <td>NaN</td>\n",
       "      <td>NaN</td>\n",
       "      <td>NaN</td>\n",
       "      <td>NaN</td>\n",
       "      <td>NaN</td>\n",
       "      <td>NaN</td>\n",
       "      <td>NaN</td>\n",
       "      <td>NaN</td>\n",
       "      <td>7.857646e+07</td>\n",
       "      <td>NaN</td>\n",
       "      <td>NaN</td>\n",
       "    </tr>\n",
       "    <tr>\n",
       "      <th>min</th>\n",
       "      <td>1.000000e+00</td>\n",
       "      <td>NaN</td>\n",
       "      <td>NaN</td>\n",
       "      <td>NaN</td>\n",
       "      <td>NaN</td>\n",
       "      <td>NaN</td>\n",
       "      <td>NaN</td>\n",
       "      <td>NaN</td>\n",
       "      <td>NaN</td>\n",
       "      <td>8.773056e+08</td>\n",
       "      <td>NaN</td>\n",
       "      <td>NaN</td>\n",
       "    </tr>\n",
       "    <tr>\n",
       "      <th>25%</th>\n",
       "      <td>5.000000e+00</td>\n",
       "      <td>NaN</td>\n",
       "      <td>NaN</td>\n",
       "      <td>NaN</td>\n",
       "      <td>NaN</td>\n",
       "      <td>NaN</td>\n",
       "      <td>NaN</td>\n",
       "      <td>NaN</td>\n",
       "      <td>NaN</td>\n",
       "      <td>1.374883e+09</td>\n",
       "      <td>NaN</td>\n",
       "      <td>NaN</td>\n",
       "    </tr>\n",
       "    <tr>\n",
       "      <th>50%</th>\n",
       "      <td>5.000000e+00</td>\n",
       "      <td>NaN</td>\n",
       "      <td>NaN</td>\n",
       "      <td>NaN</td>\n",
       "      <td>NaN</td>\n",
       "      <td>NaN</td>\n",
       "      <td>NaN</td>\n",
       "      <td>NaN</td>\n",
       "      <td>NaN</td>\n",
       "      <td>1.420070e+09</td>\n",
       "      <td>NaN</td>\n",
       "      <td>NaN</td>\n",
       "    </tr>\n",
       "    <tr>\n",
       "      <th>75%</th>\n",
       "      <td>5.000000e+00</td>\n",
       "      <td>NaN</td>\n",
       "      <td>NaN</td>\n",
       "      <td>NaN</td>\n",
       "      <td>NaN</td>\n",
       "      <td>NaN</td>\n",
       "      <td>NaN</td>\n",
       "      <td>NaN</td>\n",
       "      <td>NaN</td>\n",
       "      <td>1.457222e+09</td>\n",
       "      <td>NaN</td>\n",
       "      <td>NaN</td>\n",
       "    </tr>\n",
       "    <tr>\n",
       "      <th>max</th>\n",
       "      <td>5.000000e+00</td>\n",
       "      <td>NaN</td>\n",
       "      <td>NaN</td>\n",
       "      <td>NaN</td>\n",
       "      <td>NaN</td>\n",
       "      <td>NaN</td>\n",
       "      <td>NaN</td>\n",
       "      <td>NaN</td>\n",
       "      <td>NaN</td>\n",
       "      <td>1.538438e+09</td>\n",
       "      <td>NaN</td>\n",
       "      <td>NaN</td>\n",
       "    </tr>\n",
       "  </tbody>\n",
       "</table>\n",
       "</div>"
      ],
      "text/plain": [
       "             overall verified   reviewTime      reviewerID        asin  \\\n",
       "count   1.584082e+06  1584082      1584082         1584082     1584082   \n",
       "unique           NaN        2         7272          840372      456992   \n",
       "top              NaN     True  02 20, 2015  A3W4D8XOGLWUN5  B0135P6PZA   \n",
       "freq             NaN  1217667         5038            1326        3411   \n",
       "mean    4.660555e+00      NaN          NaN             NaN         NaN   \n",
       "std     8.440314e-01      NaN          NaN             NaN         NaN   \n",
       "min     1.000000e+00      NaN          NaN             NaN         NaN   \n",
       "25%     5.000000e+00      NaN          NaN             NaN         NaN   \n",
       "50%     5.000000e+00      NaN          NaN             NaN         NaN   \n",
       "75%     5.000000e+00      NaN          NaN             NaN         NaN   \n",
       "max     5.000000e+00      NaN          NaN             NaN         NaN   \n",
       "\n",
       "                            style     reviewerName  reviewText     summary  \\\n",
       "count                     1310814          1584001     1582629     1583547   \n",
       "unique                         41           598429     1254879      713973   \n",
       "top     {'Format:': ' MP3 Music'}  Amazon Customer  Great song  Five Stars   \n",
       "freq                       993745            82289        7127      399073   \n",
       "mean                          NaN              NaN         NaN         NaN   \n",
       "std                           NaN              NaN         NaN         NaN   \n",
       "min                           NaN              NaN         NaN         NaN   \n",
       "25%                           NaN              NaN         NaN         NaN   \n",
       "50%                           NaN              NaN         NaN         NaN   \n",
       "75%                           NaN              NaN         NaN         NaN   \n",
       "max                           NaN              NaN         NaN         NaN   \n",
       "\n",
       "        unixReviewTime    vote  \\\n",
       "count     1.584082e+06  124722   \n",
       "unique             NaN     218   \n",
       "top                NaN       2   \n",
       "freq               NaN   50192   \n",
       "mean      1.408211e+09     NaN   \n",
       "std       7.857646e+07     NaN   \n",
       "min       8.773056e+08     NaN   \n",
       "25%       1.374883e+09     NaN   \n",
       "50%       1.420070e+09     NaN   \n",
       "75%       1.457222e+09     NaN   \n",
       "max       1.538438e+09     NaN   \n",
       "\n",
       "                                                    image  \n",
       "count                                                6591  \n",
       "unique                                               6402  \n",
       "top     [https://images-na.ssl-images-amazon.com/image...  \n",
       "freq                                                   11  \n",
       "mean                                                  NaN  \n",
       "std                                                   NaN  \n",
       "min                                                   NaN  \n",
       "25%                                                   NaN  \n",
       "50%                                                   NaN  \n",
       "75%                                                   NaN  \n",
       "max                                                   NaN  "
      ]
     },
     "execution_count": 14,
     "metadata": {},
     "output_type": "execute_result"
    }
   ],
   "source": [
    "df.describe(include='all')"
   ]
  },
  {
   "cell_type": "code",
   "execution_count": 5,
   "id": "9c6a7964",
   "metadata": {},
   "outputs": [
    {
     "data": {
      "text/html": [
       "<div>\n",
       "<style scoped>\n",
       "    .dataframe tbody tr th:only-of-type {\n",
       "        vertical-align: middle;\n",
       "    }\n",
       "\n",
       "    .dataframe tbody tr th {\n",
       "        vertical-align: top;\n",
       "    }\n",
       "\n",
       "    .dataframe thead th {\n",
       "        text-align: right;\n",
       "    }\n",
       "</style>\n",
       "<table border=\"1\" class=\"dataframe\">\n",
       "  <thead>\n",
       "    <tr style=\"text-align: right;\">\n",
       "      <th></th>\n",
       "      <th>0</th>\n",
       "    </tr>\n",
       "  </thead>\n",
       "  <tbody>\n",
       "    <tr>\n",
       "      <th>overall</th>\n",
       "      <td>0.000000</td>\n",
       "    </tr>\n",
       "    <tr>\n",
       "      <th>verified</th>\n",
       "      <td>0.000000</td>\n",
       "    </tr>\n",
       "    <tr>\n",
       "      <th>reviewTime</th>\n",
       "      <td>0.000000</td>\n",
       "    </tr>\n",
       "    <tr>\n",
       "      <th>reviewerID</th>\n",
       "      <td>0.000000</td>\n",
       "    </tr>\n",
       "    <tr>\n",
       "      <th>asin</th>\n",
       "      <td>0.000000</td>\n",
       "    </tr>\n",
       "    <tr>\n",
       "      <th>style</th>\n",
       "      <td>0.749532</td>\n",
       "    </tr>\n",
       "    <tr>\n",
       "      <th>reviewerName</th>\n",
       "      <td>0.000000</td>\n",
       "    </tr>\n",
       "    <tr>\n",
       "      <th>reviewText</th>\n",
       "      <td>0.049969</td>\n",
       "    </tr>\n",
       "    <tr>\n",
       "      <th>summary</th>\n",
       "      <td>0.006246</td>\n",
       "    </tr>\n",
       "    <tr>\n",
       "      <th>unixReviewTime</th>\n",
       "      <td>0.000000</td>\n",
       "    </tr>\n",
       "    <tr>\n",
       "      <th>vote</th>\n",
       "      <td>74.597127</td>\n",
       "    </tr>\n",
       "    <tr>\n",
       "      <th>image</th>\n",
       "      <td>99.831355</td>\n",
       "    </tr>\n",
       "  </tbody>\n",
       "</table>\n",
       "</div>"
      ],
      "text/plain": [
       "                        0\n",
       "overall          0.000000\n",
       "verified         0.000000\n",
       "reviewTime       0.000000\n",
       "reviewerID       0.000000\n",
       "asin             0.000000\n",
       "style            0.749532\n",
       "reviewerName     0.000000\n",
       "reviewText       0.049969\n",
       "summary          0.006246\n",
       "unixReviewTime   0.000000\n",
       "vote            74.597127\n",
       "image           99.831355"
      ]
     },
     "execution_count": 5,
     "metadata": {},
     "output_type": "execute_result"
    }
   ],
   "source": [
    "null_data = pd.DataFrame(df.isnull().mean() * 100)\n",
    "null_data"
   ]
  },
  {
   "cell_type": "code",
   "execution_count": 6,
   "id": "d8aee5aa",
   "metadata": {},
   "outputs": [
    {
     "data": {
      "text/plain": [
       "False    16002\n",
       "True         8\n",
       "Name: reviewText, dtype: int64"
      ]
     },
     "execution_count": 6,
     "metadata": {},
     "output_type": "execute_result"
    }
   ],
   "source": [
    "df.reviewText.isnull().value_counts()"
   ]
  },
  {
   "cell_type": "code",
   "execution_count": 7,
   "id": "8ea057f3",
   "metadata": {},
   "outputs": [],
   "source": [
    "new_df = df[df.reviewText.notna()]"
   ]
  },
  {
   "cell_type": "code",
   "execution_count": 8,
   "id": "52e0f282",
   "metadata": {},
   "outputs": [
    {
     "data": {
      "text/plain": [
       "(16002, 12)"
      ]
     },
     "execution_count": 8,
     "metadata": {},
     "output_type": "execute_result"
    }
   ],
   "source": [
    "new_df.shape"
   ]
  },
  {
   "cell_type": "code",
   "execution_count": 9,
   "id": "0bd19661",
   "metadata": {},
   "outputs": [
    {
     "name": "stderr",
     "output_type": "stream",
     "text": [
      "C:\\Users\\woshi\\anaconda3\\lib\\site-packages\\pandas\\core\\frame.py:5039: SettingWithCopyWarning: \n",
      "A value is trying to be set on a copy of a slice from a DataFrame\n",
      "\n",
      "See the caveats in the documentation: https://pandas.pydata.org/pandas-docs/stable/user_guide/indexing.html#returning-a-view-versus-a-copy\n",
      "  return super().rename(\n"
     ]
    }
   ],
   "source": [
    "after_df = new_df[['overall', 'unixReviewTime', 'reviewerID', 'asin','reviewText']]\n",
    "after_df.rename(columns={'overall': 'ratings'}, inplace=True)"
   ]
  },
  {
   "cell_type": "code",
   "execution_count": 10,
   "id": "1d653987",
   "metadata": {},
   "outputs": [
    {
     "data": {
      "text/html": [
       "<div>\n",
       "<style scoped>\n",
       "    .dataframe tbody tr th:only-of-type {\n",
       "        vertical-align: middle;\n",
       "    }\n",
       "\n",
       "    .dataframe tbody tr th {\n",
       "        vertical-align: top;\n",
       "    }\n",
       "\n",
       "    .dataframe thead th {\n",
       "        text-align: right;\n",
       "    }\n",
       "</style>\n",
       "<table border=\"1\" class=\"dataframe\">\n",
       "  <thead>\n",
       "    <tr style=\"text-align: right;\">\n",
       "      <th></th>\n",
       "      <th>ratings</th>\n",
       "      <th>unixReviewTime</th>\n",
       "      <th>reviewerID</th>\n",
       "      <th>asin</th>\n",
       "      <th>reviewText</th>\n",
       "    </tr>\n",
       "  </thead>\n",
       "  <tbody>\n",
       "    <tr>\n",
       "      <th>0</th>\n",
       "      <td>5</td>\n",
       "      <td>1352419200</td>\n",
       "      <td>A2M1CU2IRZG0K9</td>\n",
       "      <td>0005089549</td>\n",
       "      <td>So sorry I didn't purchase this years ago when...</td>\n",
       "    </tr>\n",
       "    <tr>\n",
       "      <th>1</th>\n",
       "      <td>5</td>\n",
       "      <td>1325203200</td>\n",
       "      <td>AFTUJYISOFHY6</td>\n",
       "      <td>0005089549</td>\n",
       "      <td>Believe me when I tell you that you will recei...</td>\n",
       "    </tr>\n",
       "    <tr>\n",
       "      <th>2</th>\n",
       "      <td>5</td>\n",
       "      <td>1114041600</td>\n",
       "      <td>A3JVF9Y53BEOGC</td>\n",
       "      <td>000503860X</td>\n",
       "      <td>I have seen X live many times, both in the ear...</td>\n",
       "    </tr>\n",
       "    <tr>\n",
       "      <th>3</th>\n",
       "      <td>5</td>\n",
       "      <td>1112745600</td>\n",
       "      <td>A12VPEOEZS1KTC</td>\n",
       "      <td>000503860X</td>\n",
       "      <td>I was so excited for this!  Finally, a live co...</td>\n",
       "    </tr>\n",
       "    <tr>\n",
       "      <th>4</th>\n",
       "      <td>5</td>\n",
       "      <td>1291334400</td>\n",
       "      <td>ATLZNVLYKP9AZ</td>\n",
       "      <td>000503860X</td>\n",
       "      <td>X is one of the best punk bands ever. I don't ...</td>\n",
       "    </tr>\n",
       "  </tbody>\n",
       "</table>\n",
       "</div>"
      ],
      "text/plain": [
       "   ratings  unixReviewTime      reviewerID        asin  \\\n",
       "0        5      1352419200  A2M1CU2IRZG0K9  0005089549   \n",
       "1        5      1325203200   AFTUJYISOFHY6  0005089549   \n",
       "2        5      1114041600  A3JVF9Y53BEOGC  000503860X   \n",
       "3        5      1112745600  A12VPEOEZS1KTC  000503860X   \n",
       "4        5      1291334400   ATLZNVLYKP9AZ  000503860X   \n",
       "\n",
       "                                          reviewText  \n",
       "0  So sorry I didn't purchase this years ago when...  \n",
       "1  Believe me when I tell you that you will recei...  \n",
       "2  I have seen X live many times, both in the ear...  \n",
       "3  I was so excited for this!  Finally, a live co...  \n",
       "4  X is one of the best punk bands ever. I don't ...  "
      ]
     },
     "execution_count": 10,
     "metadata": {},
     "output_type": "execute_result"
    }
   ],
   "source": [
    "after_df.head()"
   ]
  },
  {
   "cell_type": "code",
   "execution_count": 11,
   "id": "13eb63f9",
   "metadata": {},
   "outputs": [
    {
     "name": "stderr",
     "output_type": "stream",
     "text": [
      "C:\\Users\\woshi\\anaconda3\\lib\\site-packages\\pandas\\core\\frame.py:4906: SettingWithCopyWarning: \n",
      "A value is trying to be set on a copy of a slice from a DataFrame\n",
      "\n",
      "See the caveats in the documentation: https://pandas.pydata.org/pandas-docs/stable/user_guide/indexing.html#returning-a-view-versus-a-copy\n",
      "  return super().drop(\n"
     ]
    }
   ],
   "source": [
    "after_df.drop('unixReviewTime', axis=1, inplace=True)"
   ]
  },
  {
   "cell_type": "code",
   "execution_count": 12,
   "id": "e1b6bb5e",
   "metadata": {},
   "outputs": [
    {
     "data": {
      "text/html": [
       "<div>\n",
       "<style scoped>\n",
       "    .dataframe tbody tr th:only-of-type {\n",
       "        vertical-align: middle;\n",
       "    }\n",
       "\n",
       "    .dataframe tbody tr th {\n",
       "        vertical-align: top;\n",
       "    }\n",
       "\n",
       "    .dataframe thead th {\n",
       "        text-align: right;\n",
       "    }\n",
       "</style>\n",
       "<table border=\"1\" class=\"dataframe\">\n",
       "  <thead>\n",
       "    <tr style=\"text-align: right;\">\n",
       "      <th></th>\n",
       "      <th>ratings</th>\n",
       "      <th>reviewerID</th>\n",
       "      <th>asin</th>\n",
       "      <th>reviewText</th>\n",
       "    </tr>\n",
       "  </thead>\n",
       "  <tbody>\n",
       "    <tr>\n",
       "      <th>0</th>\n",
       "      <td>5</td>\n",
       "      <td>A2M1CU2IRZG0K9</td>\n",
       "      <td>0005089549</td>\n",
       "      <td>So sorry I didn't purchase this years ago when...</td>\n",
       "    </tr>\n",
       "    <tr>\n",
       "      <th>1</th>\n",
       "      <td>5</td>\n",
       "      <td>AFTUJYISOFHY6</td>\n",
       "      <td>0005089549</td>\n",
       "      <td>Believe me when I tell you that you will recei...</td>\n",
       "    </tr>\n",
       "    <tr>\n",
       "      <th>2</th>\n",
       "      <td>5</td>\n",
       "      <td>A3JVF9Y53BEOGC</td>\n",
       "      <td>000503860X</td>\n",
       "      <td>I have seen X live many times, both in the ear...</td>\n",
       "    </tr>\n",
       "    <tr>\n",
       "      <th>3</th>\n",
       "      <td>5</td>\n",
       "      <td>A12VPEOEZS1KTC</td>\n",
       "      <td>000503860X</td>\n",
       "      <td>I was so excited for this!  Finally, a live co...</td>\n",
       "    </tr>\n",
       "    <tr>\n",
       "      <th>4</th>\n",
       "      <td>5</td>\n",
       "      <td>ATLZNVLYKP9AZ</td>\n",
       "      <td>000503860X</td>\n",
       "      <td>X is one of the best punk bands ever. I don't ...</td>\n",
       "    </tr>\n",
       "  </tbody>\n",
       "</table>\n",
       "</div>"
      ],
      "text/plain": [
       "   ratings      reviewerID        asin  \\\n",
       "0        5  A2M1CU2IRZG0K9  0005089549   \n",
       "1        5   AFTUJYISOFHY6  0005089549   \n",
       "2        5  A3JVF9Y53BEOGC  000503860X   \n",
       "3        5  A12VPEOEZS1KTC  000503860X   \n",
       "4        5   ATLZNVLYKP9AZ  000503860X   \n",
       "\n",
       "                                          reviewText  \n",
       "0  So sorry I didn't purchase this years ago when...  \n",
       "1  Believe me when I tell you that you will recei...  \n",
       "2  I have seen X live many times, both in the ear...  \n",
       "3  I was so excited for this!  Finally, a live co...  \n",
       "4  X is one of the best punk bands ever. I don't ...  "
      ]
     },
     "execution_count": 12,
     "metadata": {},
     "output_type": "execute_result"
    }
   ],
   "source": [
    "after_df.head()"
   ]
  },
  {
   "cell_type": "code",
   "execution_count": 15,
   "id": "5a694806",
   "metadata": {},
   "outputs": [],
   "source": [
    "training_data, testing_data = train_test_split(\n",
    "    after_df, test_size = 0.25, random_state = 42\n",
    ")"
   ]
  },
  {
   "cell_type": "code",
   "execution_count": 16,
   "id": "00f28741",
   "metadata": {},
   "outputs": [],
   "source": [
    "reviewer = after_df.groupby('reviewerID').count()\n",
    "high_Rate_Reviewer = reviewer[reviewer.ratings >= 3].index\n",
    "top_reviews_Df = after_df[after_df.reviewerID.isin(high_Rate_Reviewer)]"
   ]
  },
  {
   "cell_type": "code",
   "execution_count": 17,
   "id": "2d72ee0a",
   "metadata": {},
   "outputs": [],
   "source": [
    "asin = after_df.groupby('asin').count()\n",
    "high_Rate_Asins = asin[asin.ratings >= 3].index\n",
    "high_Asin = top_reviews_Df[top_reviews_Df.asin.isin(high_Rate_Asins)]\n"
   ]
  },
  {
   "cell_type": "code",
   "execution_count": 18,
   "id": "5f2478a4",
   "metadata": {},
   "outputs": [
    {
     "data": {
      "text/html": [
       "<div>\n",
       "<style scoped>\n",
       "    .dataframe tbody tr th:only-of-type {\n",
       "        vertical-align: middle;\n",
       "    }\n",
       "\n",
       "    .dataframe tbody tr th {\n",
       "        vertical-align: top;\n",
       "    }\n",
       "\n",
       "    .dataframe thead th {\n",
       "        text-align: right;\n",
       "    }\n",
       "</style>\n",
       "<table border=\"1\" class=\"dataframe\">\n",
       "  <thead>\n",
       "    <tr style=\"text-align: right;\">\n",
       "      <th></th>\n",
       "      <th>ratings</th>\n",
       "      <th>reviewerID</th>\n",
       "      <th>asin</th>\n",
       "      <th>reviewText</th>\n",
       "    </tr>\n",
       "  </thead>\n",
       "  <tbody>\n",
       "    <tr>\n",
       "      <th>23</th>\n",
       "      <td>5</td>\n",
       "      <td>A1E7VTRDMI4XMV</td>\n",
       "      <td>0005092663</td>\n",
       "      <td>Really excellent piece of work showing the bel...</td>\n",
       "    </tr>\n",
       "    <tr>\n",
       "      <th>25</th>\n",
       "      <td>5</td>\n",
       "      <td>AZB4CQ9JZSUQB</td>\n",
       "      <td>0005019281</td>\n",
       "      <td>When this first aired in 1979, I enjoyed it so...</td>\n",
       "    </tr>\n",
       "    <tr>\n",
       "      <th>39</th>\n",
       "      <td>3</td>\n",
       "      <td>A101IGU6UDKW3X</td>\n",
       "      <td>0005019281</td>\n",
       "      <td>Well made Christmas movie. It's a little slow ...</td>\n",
       "    </tr>\n",
       "    <tr>\n",
       "      <th>214</th>\n",
       "      <td>5</td>\n",
       "      <td>A23M34LR1SQHS9</td>\n",
       "      <td>0005019281</td>\n",
       "      <td>One of the better remakes of A Christmas Carol...</td>\n",
       "    </tr>\n",
       "    <tr>\n",
       "      <th>254</th>\n",
       "      <td>5</td>\n",
       "      <td>A1GHUN5HXMHZ89</td>\n",
       "      <td>0005019281</td>\n",
       "      <td>The first time I saw \"An American Christmas Ca...</td>\n",
       "    </tr>\n",
       "  </tbody>\n",
       "</table>\n",
       "</div>"
      ],
      "text/plain": [
       "     ratings      reviewerID        asin  \\\n",
       "23         5  A1E7VTRDMI4XMV  0005092663   \n",
       "25         5   AZB4CQ9JZSUQB  0005019281   \n",
       "39         3  A101IGU6UDKW3X  0005019281   \n",
       "214        5  A23M34LR1SQHS9  0005019281   \n",
       "254        5  A1GHUN5HXMHZ89  0005019281   \n",
       "\n",
       "                                            reviewText  \n",
       "23   Really excellent piece of work showing the bel...  \n",
       "25   When this first aired in 1979, I enjoyed it so...  \n",
       "39   Well made Christmas movie. It's a little slow ...  \n",
       "214  One of the better remakes of A Christmas Carol...  \n",
       "254  The first time I saw \"An American Christmas Ca...  "
      ]
     },
     "execution_count": 18,
     "metadata": {},
     "output_type": "execute_result"
    }
   ],
   "source": [
    "high_Asin.head()"
   ]
  },
  {
   "cell_type": "code",
   "execution_count": 19,
   "id": "cb954195",
   "metadata": {},
   "outputs": [
    {
     "data": {
      "text/plain": [
       "(surprise.trainset.Trainset, list)"
      ]
     },
     "execution_count": 19,
     "metadata": {},
     "output_type": "execute_result"
    }
   ],
   "source": [
    "from surprise.model_selection import train_test_split\n",
    "# converting data to surprise reader format\n",
    "surprise_reader = Reader(rating_scale = (0.1, 5.0))\n",
    "surprise_data = Dataset.load_from_df(\n",
    "    high_Asin[['reviewerID', 'asin', 'ratings']],\n",
    "    surprise_reader)\n",
    "# Training the Model\n",
    "training_set, testing_set = train_test_split(surprise_data, \n",
    "                                             test_size=0.25,\n",
    "                                             random_state=42)\n",
    "\n",
    "\n",
    "training_set.__class__, testing_set.__class__"
   ]
  },
  {
   "cell_type": "code",
   "execution_count": 23,
   "id": "ee3b9337",
   "metadata": {},
   "outputs": [
    {
     "name": "stdout",
     "output_type": "stream",
     "text": [
      "Estimating biases using als...\n",
      "Computing the pearson_baseline similarity matrix...\n",
      "Done computing similarity matrix.\n"
     ]
    },
    {
     "data": {
      "text/plain": [
       "<surprise.prediction_algorithms.knns.KNNWithMeans at 0x1d019a87c40>"
      ]
     },
     "execution_count": 23,
     "metadata": {},
     "output_type": "execute_result"
    }
   ],
   "source": [
    "knn_model_10 = KNNWithMeans(k=10, min_k=6, \n",
    "                         sim_options={'name': 'pearson_baseline', 'user_based': True})\n",
    "knn_model_10.fit(training_set)"
   ]
  },
  {
   "cell_type": "code",
   "execution_count": 21,
   "id": "8b822cd8",
   "metadata": {},
   "outputs": [
    {
     "name": "stdout",
     "output_type": "stream",
     "text": [
      "Estimating biases using als...\n",
      "Computing the pearson_baseline similarity matrix...\n",
      "Done computing similarity matrix.\n"
     ]
    },
    {
     "data": {
      "text/plain": [
       "<surprise.prediction_algorithms.knns.KNNWithMeans at 0x1d019a87700>"
      ]
     },
     "execution_count": 21,
     "metadata": {},
     "output_type": "execute_result"
    }
   ],
   "source": [
    "knn_model_15 = KNNWithMeans(k=15, min_k=6, \n",
    "                         sim_options={'name': 'pearson_baseline', 'user_based': True})\n",
    "knn_model_15.fit(training_set)"
   ]
  },
  {
   "cell_type": "code",
   "execution_count": 22,
   "id": "3448ef9b",
   "metadata": {},
   "outputs": [
    {
     "name": "stdout",
     "output_type": "stream",
     "text": [
      "Estimating biases using als...\n",
      "Computing the pearson_baseline similarity matrix...\n",
      "Done computing similarity matrix.\n"
     ]
    },
    {
     "data": {
      "text/plain": [
       "<surprise.prediction_algorithms.knns.KNNWithMeans at 0x1d019b469d0>"
      ]
     },
     "execution_count": 22,
     "metadata": {},
     "output_type": "execute_result"
    }
   ],
   "source": [
    "knn_model_20 = KNNWithMeans(k=20, min_k=6, \n",
    "                         sim_options={'name': 'pearson_baseline', 'user_based': True})\n",
    "knn_model_20.fit(training_set)"
   ]
  },
  {
   "cell_type": "code",
   "execution_count": 24,
   "id": "b9fc91c5",
   "metadata": {},
   "outputs": [],
   "source": [
    "eval_table = PT()\n",
    "# print(eval_table)\n",
    "eval_table.field_names = [\"Model Type\", \"RMSE Error\"]"
   ]
  },
  {
   "cell_type": "code",
   "execution_count": 25,
   "id": "7806d99f",
   "metadata": {},
   "outputs": [
    {
     "name": "stdout",
     "output_type": "stream",
     "text": [
      "RMSE: 1.1332\n",
      "RMSE: 1.1333\n",
      "RMSE: 1.1334\n"
     ]
    }
   ],
   "source": [
    "knn_10_test_predictions = knn_model_10.test(testing_set)\n",
    "knn_15_test_predictions = knn_model_15.test(testing_set)\n",
    "knn_20_test_predictions = knn_model_20.test(testing_set)\n",
    "eval_table.add_row([\"KNN k=10\", accuracy.rmse(knn_10_test_predictions)])\n",
    "eval_table.add_row([\"KNN k=15\", accuracy.rmse(knn_15_test_predictions)])\n",
    "eval_table.add_row([\"KNN k=20\", accuracy.rmse(knn_20_test_predictions)])"
   ]
  },
  {
   "cell_type": "code",
   "execution_count": 26,
   "id": "b69dd6a2",
   "metadata": {},
   "outputs": [
    {
     "data": {
      "text/plain": [
       "<surprise.prediction_algorithms.matrix_factorization.SVD at 0x1d01939a700>"
      ]
     },
     "execution_count": 26,
     "metadata": {},
     "output_type": "execute_result"
    }
   ],
   "source": [
    "from surprise import KNNBasic, SVD, NormalPredictor, KNNBaseline,KNNWithMeans, KNNWithZScore, BaselineOnly, CoClustering, Reader, dataset, accuracy\n",
    "from collections import defaultdict\n",
    "svd_model_50 = SVD(n_factors=50,reg_all=0.02)\n",
    "svd_model_50.fit(training_set)"
   ]
  },
  {
   "cell_type": "code",
   "execution_count": 27,
   "id": "b7a9a1c8",
   "metadata": {},
   "outputs": [
    {
     "data": {
      "text/plain": [
       "<surprise.prediction_algorithms.matrix_factorization.SVD at 0x1d019a875e0>"
      ]
     },
     "execution_count": 27,
     "metadata": {},
     "output_type": "execute_result"
    }
   ],
   "source": [
    "svd_model_25 = SVD(n_factors=25,reg_all=0.02)\n",
    "svd_model_25.fit(training_set)"
   ]
  },
  {
   "cell_type": "code",
   "execution_count": 28,
   "id": "260f35ab",
   "metadata": {},
   "outputs": [
    {
     "data": {
      "text/plain": [
       "<surprise.prediction_algorithms.matrix_factorization.SVD at 0x1d019b46e50>"
      ]
     },
     "execution_count": 28,
     "metadata": {},
     "output_type": "execute_result"
    }
   ],
   "source": [
    "svd_model_75 = SVD(n_factors=75,reg_all=0.02)\n",
    "svd_model_75.fit(training_set)"
   ]
  },
  {
   "cell_type": "code",
   "execution_count": 29,
   "id": "957a3664",
   "metadata": {},
   "outputs": [],
   "source": [
    "svd_25_test_predictions = svd_model_25.test(testing_set)\n",
    "svd_50_test_predictions = svd_model_50.test(testing_set)\n",
    "svd_75_test_predictions = svd_model_75.test(testing_set)"
   ]
  },
  {
   "cell_type": "code",
   "execution_count": 30,
   "id": "661a8aa8",
   "metadata": {},
   "outputs": [
    {
     "name": "stdout",
     "output_type": "stream",
     "text": [
      "RMSE: 0.9958\n",
      "RMSE: 0.9992\n",
      "RMSE: 0.9939\n"
     ]
    }
   ],
   "source": [
    "eval_table.add_row([\"SVD n_factors=25\", accuracy.rmse(svd_25_test_predictions)])\n",
    "eval_table.add_row([\"SVD n_factors=50\", accuracy.rmse(svd_50_test_predictions)])\n",
    "eval_table.add_row([\"SVD n_factors=75\", accuracy.rmse(svd_75_test_predictions)])"
   ]
  },
  {
   "cell_type": "code",
   "execution_count": 31,
   "id": "9af7fa25",
   "metadata": {},
   "outputs": [
    {
     "name": "stdout",
     "output_type": "stream",
     "text": [
      "+------------------+--------------------+\n",
      "|    Model Type    |     RMSE Error     |\n",
      "+------------------+--------------------+\n",
      "|     KNN k=10     | 1.1332332967126661 |\n",
      "|     KNN k=15     | 1.1333268334178086 |\n",
      "|     KNN k=20     | 1.1333991058315804 |\n",
      "| SVD n_factors=25 | 0.9958015976975171 |\n",
      "| SVD n_factors=50 | 0.9991661498394014 |\n",
      "| SVD n_factors=75 | 0.9938647075787407 |\n",
      "+------------------+--------------------+\n"
     ]
    }
   ],
   "source": [
    "print(eval_table)"
   ]
  },
  {
   "cell_type": "code",
   "execution_count": 32,
   "id": "8658ce4c",
   "metadata": {},
   "outputs": [],
   "source": [
    "svd_param_grid = {\n",
    "    'n_factors' : list(range(5, 100, 10)),\n",
    "    'reg_all': [0.01, 0.02, 0.03]\n",
    "}"
   ]
  },
  {
   "cell_type": "code",
   "execution_count": 33,
   "id": "cb959c6a",
   "metadata": {},
   "outputs": [],
   "source": [
    "svd_grid_search = GridSearchCV(\n",
    "    SVD,\n",
    "    svd_param_grid,\n",
    "    measures = ['rmse'],\n",
    "    cv = 5,\n",
    "    refit = True\n",
    ")"
   ]
  },
  {
   "cell_type": "code",
   "execution_count": 34,
   "id": "075328f0",
   "metadata": {},
   "outputs": [
    {
     "data": {
      "text/plain": [
       "{'rmse': {'n_factors': 95, 'reg_all': 0.01}}"
      ]
     },
     "execution_count": 34,
     "metadata": {},
     "output_type": "execute_result"
    }
   ],
   "source": [
    "svd_grid_search.fit(surprise_data)\n",
    "svd_grid_search.best_params"
   ]
  },
  {
   "cell_type": "code",
   "execution_count": 36,
   "id": "5329e554",
   "metadata": {},
   "outputs": [],
   "source": [
    "svd_cv_testing = svd_grid_search.test(testing_set)"
   ]
  },
  {
   "cell_type": "code",
   "execution_count": 37,
   "id": "85b32592",
   "metadata": {},
   "outputs": [
    {
     "name": "stdout",
     "output_type": "stream",
     "text": [
      "RMSE: 0.7002\n",
      "+-----------------------+--------------------+\n",
      "|       Model Type      |     RMSE Error     |\n",
      "+-----------------------+--------------------+\n",
      "|        KNN k=10       | 1.1332332967126661 |\n",
      "|        KNN k=15       | 1.1333268334178086 |\n",
      "|        KNN k=20       | 1.1333991058315804 |\n",
      "|    SVD n_factors=25   | 0.9958015976975171 |\n",
      "|    SVD n_factors=50   | 0.9991661498394014 |\n",
      "|    SVD n_factors=75   | 0.9938647075787407 |\n",
      "| Best SVD n_factors=95 | 0.7001759133924601 |\n",
      "+-----------------------+--------------------+\n"
     ]
    }
   ],
   "source": [
    "eval_table.add_row([\"Best SVD n_factors=95\", accuracy.rmse(svd_cv_testing)])\n",
    "print(eval_table)"
   ]
  },
  {
   "cell_type": "code",
   "execution_count": null,
   "id": "5ed5f271",
   "metadata": {},
   "outputs": [],
   "source": []
  }
 ],
 "metadata": {
  "kernelspec": {
   "display_name": "Python 3 (ipykernel)",
   "language": "python",
   "name": "python3"
  },
  "language_info": {
   "codemirror_mode": {
    "name": "ipython",
    "version": 3
   },
   "file_extension": ".py",
   "mimetype": "text/x-python",
   "name": "python",
   "nbconvert_exporter": "python",
   "pygments_lexer": "ipython3",
   "version": "3.9.7"
  }
 },
 "nbformat": 4,
 "nbformat_minor": 5
}
