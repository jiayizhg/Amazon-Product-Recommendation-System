{
  "cells": [
    {
      "cell_type": "code",
      "execution_count": null,
      "id": "0fc4001b",
      "metadata": {
        "id": "0fc4001b"
      },
      "outputs": [],
      "source": [
        "import pandas as pd\n",
        "from sklearn.model_selection import train_test_split\n",
        "import sklearn.metrics as metric\n",
        "from math import sqrt\n",
        "from prettytable import PrettyTable as PT"
      ]
    },
    {
      "cell_type": "code",
      "source": [
        "# from google.colab import drive\n",
        "# drive.mount('/content/gdrive')\n"
      ],
      "metadata": {
        "colab": {
          "base_uri": "https://localhost:8080/"
        },
        "id": "0FnAs4tiSMVV",
        "outputId": "872cc656-6434-4781-87d4-3f08df4be479"
      },
      "id": "0FnAs4tiSMVV",
      "execution_count": null,
      "outputs": [
        {
          "output_type": "stream",
          "name": "stdout",
          "text": [
            "Drive already mounted at /content/gdrive; to attempt to forcibly remount, call drive.mount(\"/content/gdrive\", force_remount=True).\n"
          ]
        }
      ]
    },
    {
      "cell_type": "code",
      "source": [
        "# from psutil import virtual_memory\n",
        "# ram_gb = virtual_memory().total / 1e9\n",
        "# print('Your runtime has {:.1f} gigabytes of available RAM\\n'.format(ram_gb))\n",
        "\n",
        "# if ram_gb < 20:\n",
        "#   print('Not using a high-RAM runtime')\n",
        "# else:\n",
        "#   print('You are using a high-RAM runtime!')"
      ],
      "metadata": {
        "id": "EQlzq78xrn2z"
      },
      "id": "EQlzq78xrn2z",
      "execution_count": null,
      "outputs": []
    },
    {
      "cell_type": "code",
      "source": [
        "# pip install scikit-surprise"
      ],
      "metadata": {
        "colab": {
          "base_uri": "https://localhost:8080/"
        },
        "id": "9eolNZ3CS0RI",
        "outputId": "d779d38e-032f-4caa-cf97-b757942fd54d"
      },
      "id": "9eolNZ3CS0RI",
      "execution_count": null,
      "outputs": [
        {
          "output_type": "stream",
          "name": "stdout",
          "text": [
            "Looking in indexes: https://pypi.org/simple, https://us-python.pkg.dev/colab-wheels/public/simple/\n",
            "Requirement already satisfied: scikit-surprise in /usr/local/lib/python3.10/dist-packages (1.1.3)\n",
            "Requirement already satisfied: scipy>=1.3.2 in /usr/local/lib/python3.10/dist-packages (from scikit-surprise) (1.10.1)\n",
            "Requirement already satisfied: numpy>=1.17.3 in /usr/local/lib/python3.10/dist-packages (from scikit-surprise) (1.22.4)\n",
            "Requirement already satisfied: joblib>=1.0.0 in /usr/local/lib/python3.10/dist-packages (from scikit-surprise) (1.2.0)\n"
          ]
        }
      ]
    },
    {
      "cell_type": "code",
      "execution_count": null,
      "id": "738fb97e",
      "metadata": {
        "id": "738fb97e"
      },
      "outputs": [],
      "source": [
        "#pip install scikit-surprise\n",
        "import surprise\n",
        "from surprise import KNNWithMeans\n",
        "from surprise.model_selection import GridSearchCV\n",
        "from surprise import Dataset\n",
        "from surprise import accuracy\n",
        "from surprise import Reader\n"
      ]
    },
    {
      "cell_type": "code",
      "source": [
        "df = pd.read_json('Digital_Music.json', lines = True)"
      ],
      "metadata": {
        "id": "jbQwyq22R5ry"
      },
      "id": "jbQwyq22R5ry",
      "execution_count": null,
      "outputs": []
    },
    {
      "cell_type": "code",
      "execution_count": null,
      "id": "baf8d899",
      "metadata": {
        "id": "baf8d899"
      },
      "outputs": [],
      "source": [
        "# df.head(5)"
      ]
    },
    {
      "cell_type": "code",
      "execution_count": null,
      "id": "1c3f7821",
      "metadata": {
        "id": "1c3f7821"
      },
      "outputs": [],
      "source": [
        "# df.describe(include='all')"
      ]
    },
    {
      "cell_type": "code",
      "execution_count": null,
      "id": "9c6a7964",
      "metadata": {
        "colab": {
          "base_uri": "https://localhost:8080/",
          "height": 425
        },
        "id": "9c6a7964",
        "outputId": "e104f9d8-579b-44b8-d981-cb8469e4a40e"
      },
      "outputs": [
        {
          "output_type": "execute_result",
          "data": {
            "text/plain": [
              "                        0\n",
              "overall          0.000000\n",
              "verified         0.000000\n",
              "reviewTime       0.000000\n",
              "reviewerID       0.000000\n",
              "asin             0.000000\n",
              "style           17.250875\n",
              "reviewerName     0.005113\n",
              "reviewText       0.091725\n",
              "summary          0.033774\n",
              "unixReviewTime   0.000000\n",
              "vote            92.126544\n",
              "image           99.583923"
            ],
            "text/html": [
              "\n",
              "  <div id=\"df-27546ea1-3161-42cc-96b0-7f2f81fe1106\">\n",
              "    <div class=\"colab-df-container\">\n",
              "      <div>\n",
              "<style scoped>\n",
              "    .dataframe tbody tr th:only-of-type {\n",
              "        vertical-align: middle;\n",
              "    }\n",
              "\n",
              "    .dataframe tbody tr th {\n",
              "        vertical-align: top;\n",
              "    }\n",
              "\n",
              "    .dataframe thead th {\n",
              "        text-align: right;\n",
              "    }\n",
              "</style>\n",
              "<table border=\"1\" class=\"dataframe\">\n",
              "  <thead>\n",
              "    <tr style=\"text-align: right;\">\n",
              "      <th></th>\n",
              "      <th>0</th>\n",
              "    </tr>\n",
              "  </thead>\n",
              "  <tbody>\n",
              "    <tr>\n",
              "      <th>overall</th>\n",
              "      <td>0.000000</td>\n",
              "    </tr>\n",
              "    <tr>\n",
              "      <th>verified</th>\n",
              "      <td>0.000000</td>\n",
              "    </tr>\n",
              "    <tr>\n",
              "      <th>reviewTime</th>\n",
              "      <td>0.000000</td>\n",
              "    </tr>\n",
              "    <tr>\n",
              "      <th>reviewerID</th>\n",
              "      <td>0.000000</td>\n",
              "    </tr>\n",
              "    <tr>\n",
              "      <th>asin</th>\n",
              "      <td>0.000000</td>\n",
              "    </tr>\n",
              "    <tr>\n",
              "      <th>style</th>\n",
              "      <td>17.250875</td>\n",
              "    </tr>\n",
              "    <tr>\n",
              "      <th>reviewerName</th>\n",
              "      <td>0.005113</td>\n",
              "    </tr>\n",
              "    <tr>\n",
              "      <th>reviewText</th>\n",
              "      <td>0.091725</td>\n",
              "    </tr>\n",
              "    <tr>\n",
              "      <th>summary</th>\n",
              "      <td>0.033774</td>\n",
              "    </tr>\n",
              "    <tr>\n",
              "      <th>unixReviewTime</th>\n",
              "      <td>0.000000</td>\n",
              "    </tr>\n",
              "    <tr>\n",
              "      <th>vote</th>\n",
              "      <td>92.126544</td>\n",
              "    </tr>\n",
              "    <tr>\n",
              "      <th>image</th>\n",
              "      <td>99.583923</td>\n",
              "    </tr>\n",
              "  </tbody>\n",
              "</table>\n",
              "</div>\n",
              "      <button class=\"colab-df-convert\" onclick=\"convertToInteractive('df-27546ea1-3161-42cc-96b0-7f2f81fe1106')\"\n",
              "              title=\"Convert this dataframe to an interactive table.\"\n",
              "              style=\"display:none;\">\n",
              "        \n",
              "  <svg xmlns=\"http://www.w3.org/2000/svg\" height=\"24px\"viewBox=\"0 0 24 24\"\n",
              "       width=\"24px\">\n",
              "    <path d=\"M0 0h24v24H0V0z\" fill=\"none\"/>\n",
              "    <path d=\"M18.56 5.44l.94 2.06.94-2.06 2.06-.94-2.06-.94-.94-2.06-.94 2.06-2.06.94zm-11 1L8.5 8.5l.94-2.06 2.06-.94-2.06-.94L8.5 2.5l-.94 2.06-2.06.94zm10 10l.94 2.06.94-2.06 2.06-.94-2.06-.94-.94-2.06-.94 2.06-2.06.94z\"/><path d=\"M17.41 7.96l-1.37-1.37c-.4-.4-.92-.59-1.43-.59-.52 0-1.04.2-1.43.59L10.3 9.45l-7.72 7.72c-.78.78-.78 2.05 0 2.83L4 21.41c.39.39.9.59 1.41.59.51 0 1.02-.2 1.41-.59l7.78-7.78 2.81-2.81c.8-.78.8-2.07 0-2.86zM5.41 20L4 18.59l7.72-7.72 1.47 1.35L5.41 20z\"/>\n",
              "  </svg>\n",
              "      </button>\n",
              "      \n",
              "  <style>\n",
              "    .colab-df-container {\n",
              "      display:flex;\n",
              "      flex-wrap:wrap;\n",
              "      gap: 12px;\n",
              "    }\n",
              "\n",
              "    .colab-df-convert {\n",
              "      background-color: #E8F0FE;\n",
              "      border: none;\n",
              "      border-radius: 50%;\n",
              "      cursor: pointer;\n",
              "      display: none;\n",
              "      fill: #1967D2;\n",
              "      height: 32px;\n",
              "      padding: 0 0 0 0;\n",
              "      width: 32px;\n",
              "    }\n",
              "\n",
              "    .colab-df-convert:hover {\n",
              "      background-color: #E2EBFA;\n",
              "      box-shadow: 0px 1px 2px rgba(60, 64, 67, 0.3), 0px 1px 3px 1px rgba(60, 64, 67, 0.15);\n",
              "      fill: #174EA6;\n",
              "    }\n",
              "\n",
              "    [theme=dark] .colab-df-convert {\n",
              "      background-color: #3B4455;\n",
              "      fill: #D2E3FC;\n",
              "    }\n",
              "\n",
              "    [theme=dark] .colab-df-convert:hover {\n",
              "      background-color: #434B5C;\n",
              "      box-shadow: 0px 1px 3px 1px rgba(0, 0, 0, 0.15);\n",
              "      filter: drop-shadow(0px 1px 2px rgba(0, 0, 0, 0.3));\n",
              "      fill: #FFFFFF;\n",
              "    }\n",
              "  </style>\n",
              "\n",
              "      <script>\n",
              "        const buttonEl =\n",
              "          document.querySelector('#df-27546ea1-3161-42cc-96b0-7f2f81fe1106 button.colab-df-convert');\n",
              "        buttonEl.style.display =\n",
              "          google.colab.kernel.accessAllowed ? 'block' : 'none';\n",
              "\n",
              "        async function convertToInteractive(key) {\n",
              "          const element = document.querySelector('#df-27546ea1-3161-42cc-96b0-7f2f81fe1106');\n",
              "          const dataTable =\n",
              "            await google.colab.kernel.invokeFunction('convertToInteractive',\n",
              "                                                     [key], {});\n",
              "          if (!dataTable) return;\n",
              "\n",
              "          const docLinkHtml = 'Like what you see? Visit the ' +\n",
              "            '<a target=\"_blank\" href=https://colab.research.google.com/notebooks/data_table.ipynb>data table notebook</a>'\n",
              "            + ' to learn more about interactive tables.';\n",
              "          element.innerHTML = '';\n",
              "          dataTable['output_type'] = 'display_data';\n",
              "          await google.colab.output.renderOutput(dataTable, element);\n",
              "          const docLink = document.createElement('div');\n",
              "          docLink.innerHTML = docLinkHtml;\n",
              "          element.appendChild(docLink);\n",
              "        }\n",
              "      </script>\n",
              "    </div>\n",
              "  </div>\n",
              "  "
            ]
          },
          "metadata": {},
          "execution_count": 9
        }
      ],
      "source": [
        "null_data = pd.DataFrame(df.isnull().mean() * 100)\n",
        "null_data"
      ]
    },
    {
      "cell_type": "code",
      "execution_count": null,
      "id": "d8aee5aa",
      "metadata": {
        "id": "d8aee5aa"
      },
      "outputs": [],
      "source": [
        "# df.reviewText.isnull().value_counts()"
      ]
    },
    {
      "cell_type": "code",
      "execution_count": null,
      "id": "8ea057f3",
      "metadata": {
        "id": "8ea057f3"
      },
      "outputs": [],
      "source": [
        "new_df = df[df.reviewText.notna()]"
      ]
    },
    {
      "cell_type": "code",
      "execution_count": null,
      "id": "52e0f282",
      "metadata": {
        "id": "52e0f282"
      },
      "outputs": [],
      "source": [
        "# new_df.shape"
      ]
    },
    {
      "cell_type": "code",
      "execution_count": null,
      "id": "0bd19661",
      "metadata": {
        "colab": {
          "base_uri": "https://localhost:8080/"
        },
        "id": "0bd19661",
        "outputId": "edf1f748-aa22-4043-c46e-6b0e4d96a229"
      },
      "outputs": [
        {
          "output_type": "stream",
          "name": "stderr",
          "text": [
            "<ipython-input-13-18d15c50fa1d>:2: SettingWithCopyWarning: \n",
            "A value is trying to be set on a copy of a slice from a DataFrame\n",
            "\n",
            "See the caveats in the documentation: https://pandas.pydata.org/pandas-docs/stable/user_guide/indexing.html#returning-a-view-versus-a-copy\n",
            "  after_df.rename(columns={'overall': 'ratings'}, inplace=True)\n"
          ]
        }
      ],
      "source": [
        "after_df = new_df[['overall', 'unixReviewTime', 'reviewerID', 'asin','reviewText']]\n",
        "after_df.rename(columns={'overall': 'ratings'}, inplace=True)\n"
      ]
    },
    {
      "cell_type": "code",
      "execution_count": null,
      "id": "1d653987",
      "metadata": {
        "id": "1d653987"
      },
      "outputs": [],
      "source": [
        "# after_df.head()"
      ]
    },
    {
      "cell_type": "code",
      "execution_count": null,
      "id": "13eb63f9",
      "metadata": {
        "colab": {
          "base_uri": "https://localhost:8080/"
        },
        "id": "13eb63f9",
        "outputId": "45a101f3-6e67-48a8-b77d-49f98f69afcb"
      },
      "outputs": [
        {
          "output_type": "stream",
          "name": "stderr",
          "text": [
            "<ipython-input-15-141d4d997413>:1: SettingWithCopyWarning: \n",
            "A value is trying to be set on a copy of a slice from a DataFrame\n",
            "\n",
            "See the caveats in the documentation: https://pandas.pydata.org/pandas-docs/stable/user_guide/indexing.html#returning-a-view-versus-a-copy\n",
            "  after_df.drop('unixReviewTime', axis=1, inplace=True)\n"
          ]
        }
      ],
      "source": [
        "after_df.drop('unixReviewTime', axis=1, inplace=True)"
      ]
    },
    {
      "cell_type": "code",
      "execution_count": null,
      "id": "e1b6bb5e",
      "metadata": {
        "id": "e1b6bb5e"
      },
      "outputs": [],
      "source": [
        "# after_df.head()"
      ]
    },
    {
      "cell_type": "code",
      "execution_count": null,
      "id": "5a694806",
      "metadata": {
        "id": "5a694806"
      },
      "outputs": [],
      "source": [
        "training_data, testing_data = train_test_split(\n",
        "    after_df, test_size = 0.25, random_state = 42\n",
        ")"
      ]
    },
    {
      "cell_type": "code",
      "execution_count": null,
      "id": "00f28741",
      "metadata": {
        "id": "00f28741"
      },
      "outputs": [],
      "source": [
        "reviewer = after_df.groupby('reviewerID').count()\n",
        "high_Rate_Reviewer = reviewer[reviewer.ratings >= 3].index\n",
        "top_reviews_Df = after_df[after_df.reviewerID.isin(high_Rate_Reviewer)]"
      ]
    },
    {
      "cell_type": "code",
      "execution_count": null,
      "id": "2d72ee0a",
      "metadata": {
        "id": "2d72ee0a"
      },
      "outputs": [],
      "source": [
        "asin = after_df.groupby('asin').count()\n",
        "high_Rate_Asins = asin[asin.ratings >= 3].index\n",
        "high_Asin = top_reviews_Df[top_reviews_Df.asin.isin(high_Rate_Asins)]\n"
      ]
    },
    {
      "cell_type": "code",
      "execution_count": null,
      "id": "5f2478a4",
      "metadata": {
        "id": "5f2478a4"
      },
      "outputs": [],
      "source": [
        "# high_Asin.head()"
      ]
    },
    {
      "cell_type": "code",
      "execution_count": null,
      "id": "cb954195",
      "metadata": {
        "colab": {
          "base_uri": "https://localhost:8080/"
        },
        "id": "cb954195",
        "outputId": "40a8cf4e-fbd8-4c76-8f86-e17edfeca6cc"
      },
      "outputs": [
        {
          "output_type": "execute_result",
          "data": {
            "text/plain": [
              "(surprise.trainset.Trainset, list)"
            ]
          },
          "metadata": {},
          "execution_count": 21
        }
      ],
      "source": [
        "# converting data to surprise reader format\n",
        "from surprise.model_selection import train_test_split\n",
        "surprise_reader = Reader()\n",
        "surprise_data = Dataset.load_from_df(\n",
        "    high_Asin[['reviewerID', 'asin', 'ratings']],\n",
        "    surprise_reader)\n",
        "# Training the Model\n",
        "training_set, testing_set = train_test_split(surprise_data, \n",
        "                                             test_size=0.25,\n",
        "                                             random_state=42)\n",
        "\n",
        "\n",
        "training_set.__class__, testing_set.__class__"
      ]
    },
    {
      "cell_type": "code",
      "execution_count": null,
      "id": "ee3b9337",
      "metadata": {
        "colab": {
          "base_uri": "https://localhost:8080/"
        },
        "id": "ee3b9337",
        "outputId": "5762c699-7ab3-47c5-b30e-a702a7e4133d"
      },
      "outputs": [
        {
          "output_type": "execute_result",
          "data": {
            "text/plain": [
              "<surprise.prediction_algorithms.matrix_factorization.SVD at 0x7f64b7a739d0>"
            ]
          },
          "metadata": {},
          "execution_count": 23
        }
      ],
      "source": [
        "from surprise import KNNBasic, SVD, NormalPredictor, KNNBaseline,KNNWithMeans, KNNWithZScore, BaselineOnly, CoClustering, Reader, dataset, accuracy\n",
        "from collections import defaultdict\n",
        "svd_model_50 = SVD(n_factors=50,reg_all=0.02)\n",
        "svd_model_50.fit(training_set)"
      ]
    },
    {
      "cell_type": "code",
      "execution_count": null,
      "id": "8b822cd8",
      "metadata": {
        "colab": {
          "base_uri": "https://localhost:8080/"
        },
        "id": "8b822cd8",
        "outputId": "e7d8e75d-867f-42c2-b906-74adfcdac953"
      },
      "outputs": [
        {
          "output_type": "execute_result",
          "data": {
            "text/plain": [
              "<surprise.prediction_algorithms.matrix_factorization.SVD at 0x7f64b7a736d0>"
            ]
          },
          "metadata": {},
          "execution_count": 24
        }
      ],
      "source": [
        "svd_model_25 = SVD(n_factors=25,reg_all=0.02)\n",
        "svd_model_25.fit(training_set)"
      ]
    },
    {
      "cell_type": "code",
      "source": [
        "svd_model_75 = SVD(n_factors=75,reg_all=0.02)\n",
        "svd_model_75.fit(training_set)"
      ],
      "metadata": {
        "colab": {
          "base_uri": "https://localhost:8080/"
        },
        "id": "wT0X_s8yv9CF",
        "outputId": "1a599d72-28e7-4ccb-b184-d8a46a54ad9f"
      },
      "id": "wT0X_s8yv9CF",
      "execution_count": null,
      "outputs": [
        {
          "output_type": "execute_result",
          "data": {
            "text/plain": [
              "<surprise.prediction_algorithms.matrix_factorization.SVD at 0x7f64b7a73910>"
            ]
          },
          "metadata": {},
          "execution_count": 25
        }
      ]
    },
    {
      "cell_type": "code",
      "source": [
        "svd_25_test_predictions = svd_model_25.test(testing_set)\n",
        "svd_50_test_predictions = svd_model_50.test(testing_set)\n",
        "svd_75_test_predictions = svd_model_75.test(testing_set)"
      ],
      "metadata": {
        "id": "en04Epktv-Jz"
      },
      "id": "en04Epktv-Jz",
      "execution_count": null,
      "outputs": []
    },
    {
      "cell_type": "code",
      "source": [
        "eval_table = PT()\n",
        "# print(eval_table)\n",
        "eval_table.field_names = [\"Model Type\", \"RMSE Error\"]"
      ],
      "metadata": {
        "id": "3CMajjOZwFTJ"
      },
      "id": "3CMajjOZwFTJ",
      "execution_count": null,
      "outputs": []
    },
    {
      "cell_type": "code",
      "source": [
        "eval_table.add_row([\"SVD n_factors=25\", accuracy.rmse(svd_25_test_predictions)])\n",
        "eval_table.add_row([\"SVD n_factors=50\", accuracy.rmse(svd_50_test_predictions)])\n",
        "eval_table.add_row([\"SVD n_factors=75\", accuracy.rmse(svd_75_test_predictions)])"
      ],
      "metadata": {
        "colab": {
          "base_uri": "https://localhost:8080/"
        },
        "id": "ajYU5PQUwdsq",
        "outputId": "ba1bfe68-fa8c-4de2-a0b1-00826a22c956"
      },
      "id": "ajYU5PQUwdsq",
      "execution_count": null,
      "outputs": [
        {
          "output_type": "stream",
          "name": "stdout",
          "text": [
            "RMSE: 0.6553\n",
            "RMSE: 0.6544\n",
            "RMSE: 0.6542\n"
          ]
        }
      ]
    },
    {
      "cell_type": "code",
      "source": [
        "print(eval_table)"
      ],
      "metadata": {
        "colab": {
          "base_uri": "https://localhost:8080/"
        },
        "id": "HfdfcAWxwzeR",
        "outputId": "2958f2f0-819a-41e8-80cd-d633428282cc"
      },
      "id": "HfdfcAWxwzeR",
      "execution_count": null,
      "outputs": [
        {
          "output_type": "stream",
          "name": "stdout",
          "text": [
            "+------------------+--------------------+\n",
            "|    Model Type    |     RMSE Error     |\n",
            "+------------------+--------------------+\n",
            "| SVD n_factors=25 | 0.655305960618366  |\n",
            "| SVD n_factors=50 | 0.6543662899455052 |\n",
            "| SVD n_factors=75 | 0.6541507211028887 |\n",
            "+------------------+--------------------+\n"
          ]
        }
      ]
    },
    {
      "cell_type": "code",
      "source": [
        "svd_param_grid = {\n",
        "    'n_factors' : list(range(5, 100, 10)),\n",
        "    'reg_all': [0.01, 0.02, 0.03]\n",
        "}"
      ],
      "metadata": {
        "id": "pUGuanChxAgo"
      },
      "id": "pUGuanChxAgo",
      "execution_count": null,
      "outputs": []
    },
    {
      "cell_type": "code",
      "source": [
        "svd_grid_search = GridSearchCV(\n",
        "    SVD,\n",
        "    svd_param_grid,\n",
        "    measures = ['rmse'],\n",
        "    cv = 5,\n",
        "    refit = True\n",
        ")"
      ],
      "metadata": {
        "id": "SbajksMow12M"
      },
      "id": "SbajksMow12M",
      "execution_count": null,
      "outputs": []
    },
    {
      "cell_type": "code",
      "source": [
        "svd_grid_search.fit(surprise_data)"
      ],
      "metadata": {
        "id": "4LSNOZK0xEbT"
      },
      "id": "4LSNOZK0xEbT",
      "execution_count": null,
      "outputs": []
    },
    {
      "cell_type": "code",
      "source": [
        "svd_grid_search.best_params"
      ],
      "metadata": {
        "colab": {
          "base_uri": "https://localhost:8080/"
        },
        "id": "HMO5KTnzxFAd",
        "outputId": "f1f45450-0922-4d5a-f800-c0816a7f3393"
      },
      "id": "HMO5KTnzxFAd",
      "execution_count": null,
      "outputs": [
        {
          "output_type": "execute_result",
          "data": {
            "text/plain": [
              "{'rmse': {'n_factors': 65, 'reg_all': 0.01}}"
            ]
          },
          "metadata": {},
          "execution_count": 36
        }
      ]
    },
    {
      "cell_type": "code",
      "source": [
        "svd_cv_testing = svd_grid_search.test(testing_set)"
      ],
      "metadata": {
        "id": "N0xapikIxHiw"
      },
      "id": "N0xapikIxHiw",
      "execution_count": null,
      "outputs": []
    },
    {
      "cell_type": "code",
      "source": [
        "eval_table.add_row([\"Best SVD n_factors=65\", accuracy.rmse(svd_cv_testing)])\n",
        "print(eval_table)"
      ],
      "metadata": {
        "colab": {
          "base_uri": "https://localhost:8080/"
        },
        "id": "HJnaINUXxKLh",
        "outputId": "52436b64-7d64-4bbf-d894-28f82e79ee74"
      },
      "id": "HJnaINUXxKLh",
      "execution_count": null,
      "outputs": [
        {
          "output_type": "stream",
          "name": "stdout",
          "text": [
            "RMSE: 0.4804\n",
            "+-----------------------+--------------------+\n",
            "|       Model Type      |     RMSE Error     |\n",
            "+-----------------------+--------------------+\n",
            "|    SVD n_factors=25   | 0.655305960618366  |\n",
            "|    SVD n_factors=50   | 0.6543662899455052 |\n",
            "|    SVD n_factors=75   | 0.6541507211028887 |\n",
            "| Best SVD n_factors=85 | 0.4803509867534198 |\n",
            "| Best SVD n_factors=65 | 0.4803509867534198 |\n",
            "+-----------------------+--------------------+\n"
          ]
        }
      ]
    },
    {
      "cell_type": "code",
      "source": [],
      "metadata": {
        "id": "uxkgp938CQ1L"
      },
      "id": "uxkgp938CQ1L",
      "execution_count": null,
      "outputs": []
    }
  ],
  "metadata": {
    "kernelspec": {
      "display_name": "Python 3 (ipykernel)",
      "language": "python",
      "name": "python3"
    },
    "language_info": {
      "codemirror_mode": {
        "name": "ipython",
        "version": 3
      },
      "file_extension": ".py",
      "mimetype": "text/x-python",
      "name": "python",
      "nbconvert_exporter": "python",
      "pygments_lexer": "ipython3",
      "version": "3.9.7"
    },
    "colab": {
      "provenance": [],
      "machine_shape": "hm",
      "gpuType": "T4"
    },
    "accelerator": "GPU",
    "gpuClass": "standard"
  },
  "nbformat": 4,
  "nbformat_minor": 5
}